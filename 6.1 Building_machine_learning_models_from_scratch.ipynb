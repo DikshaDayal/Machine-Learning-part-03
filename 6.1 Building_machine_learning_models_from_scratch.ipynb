{
  "nbformat": 4,
  "nbformat_minor": 0,
  "metadata": {
    "colab": {
      "provenance": [],
      "authorship_tag": "ABX9TyMX5o9WpWrE8x0nGkxV55xt",
      "include_colab_link": true
    },
    "kernelspec": {
      "name": "python3",
      "display_name": "Python 3"
    },
    "language_info": {
      "name": "python"
    }
  },
  "cells": [
    {
      "cell_type": "markdown",
      "metadata": {
        "id": "view-in-github",
        "colab_type": "text"
      },
      "source": [
        "<a href=\"https://colab.research.google.com/github/DikshaDayal/Machine-Learning-part-03/blob/main/6.1%20Building_machine_learning_models_from_scratch.ipynb\" target=\"_parent\"><img src=\"https://colab.research.google.com/assets/colab-badge.svg\" alt=\"Open In Colab\"/></a>"
      ]
    },
    {
      "cell_type": "markdown",
      "source": [
        "**Linear Regression :-**\n",
        "\n",
        "**Y = wX + b**\n",
        "\n",
        "Y ---> Dependent Variable.\n",
        "\n",
        "X ---> Feature.\n",
        "\n",
        "w ---> weight.\n",
        "\n",
        "b ---> bias."
      ],
      "metadata": {
        "id": "XwOV0kh1kb0I"
      }
    },
    {
      "cell_type": "markdown",
      "source": [
        "**Gradient Descent:**\n",
        "\n",
        "Gradient Descent is an optimization algorithm used for minimizing the loss function in various machine learning algorithms. It is used for updating the parameters of the learning model.\n",
        "\n",
        "w = w - α*dw\n",
        "\n",
        "b = b - α*db\n",
        "\n",
        "**Learning Rate:**\n",
        "\n",
        "Learning rate is a tuning parameter in an optimization algorithm that determines the step size at each iteration while moving toward a minimum of a loss function."
      ],
      "metadata": {
        "id": "75-vL_2Olxo9"
      }
    },
    {
      "cell_type": "markdown",
      "source": [
        "![image.png](data:image/png;base64,iVBORw0KGgoAAAANSUhEUgAAAcMAAABwCAYAAABirxuxAAAgAElEQVR4Ae3dB5QsRdUH8CdKUBQVQVEURMGAgaAS9IFERQHJUUBAFBUkSRCUDyUrWeCB5BwkI0ElKCDBAIgKSBRUggHFiLm+8yut3Z5xend238zuzM6tc3p3pqe7q+pW9f3XjTVtWpSWFEhRggJBgaBAUGBgKNASCOLktGkDMwOio0GBoEBQICiQAvdqKBBzIygQFAgKBAUGhwI1UBCnB2cKRE+DAkGBoEBQIFCvhgIxNYICQYGgQFBgcChQAwVxenCmQPQ0KBAUCAoEBQL1aigQUyMoEBQICgQFBocCNVAQpwdnCkRPgwJBgaBAUCBQr4YCMTV6lwL//ve/09///vf061//Ol133XXplFNOSWeeeWa6+eab0+OPP55++ctfphtvvDGdfPLJ6fjjj0+XXHJJ+tGPfpT+9Kc/9W6nomVBgaDApFKgBgri9KSOSlQ+IgX++c9/pl/96lfp1ltvTUceeWTaeOON07rrrpv222+/9PWvfz0D4YwZM9JWW22V3ve+96XNN988+f7oo4+O+Nz4MSgQFBhcCgTq1VBgcKdE7/f8mWeeSffee2+WBk8//fS0zTbbpOWXXz5tsskm6aCDDkonnnhiOuOMMzI4fuADH0hLL710Bsbbb7+99zsXLQwKBAUmhQI1UBCnJ2U0otK2KPCXv/wlqz2pRkl7Z511Vtpoo42yFLjtttum4447Lj344IPpgQceSF/4whfSiiuumNZcc8100003tfX8uCgoEBQYPAoE6tVQYPCmQv/0mM3wH//4RyIhKqTDlVdeOS233HJpn332SY899lg+f//992fpcIMNNkg77bRTuuuuu/qnk9HSoEBQYEIpUAMFcXpCRyEqGxcFgCL74SGHHJKmT5+e1aQXXXRR+vOf/5yfd+eddyaSIpvioYcemh566KFx1RM3BQWCAlOfAoF6NRSY+kPf/z3kUUoK3HnnndM73/nOtOeee6Z77rkne5rqHWeaNdZYI2222WbpnHPOyd6n/d/r6EFQICjQDQrUQEGc7gax45mdpQDb4W233Za22GKLtMIKK6Rjjjkm/fGPf0z/+te/8v9TTz01g+RHPvKRdM0112QPVADqd1JllKBAUCAoUCgQqFdDgUKg+N+bFABmv//977PEt9566+XQigsvvDA3Ftg98sgj2bN0iSWWyPZCcYd33HFHuu+++7Kt0TVRggJBgaBAoUANFMTpQqD435sUAIaC7vfdd9+01lprpe233z5de+21ubHsiNSle++9d1p88cUzGF566aWJpCgA/+mnn84OOL3Zs2hVUCAoMBkUCNSrocBkDEbU2T4FgOEvfvGLJI5w2WWXzfZCKlOF1Peb3/wmZ59505velBZeeOG04YYb5u933313BsJQk7ZP67gyKDAIFKiBgjg9CIPfz30EZr/73e/Sl770pXTYYYelq6++Ov385z/PXfLb3/72tyTIXpzhbrvtlg4//PB0yy23ZNVqP/c72h4UCAp0hwKBejUU6A6546mdpAB1KFWp1Gx/+MMfhrxI1QEQhVjIU8rj1DVyk7onSlAgKBAUaKZADRTE6WZCxfdhCgAaqkiB7ySwv/71r9kpRRC8z875zXVRggJBgaBAP1AgUK+GAv0weJPVRhIXactOEDfccEO6/PLLk2B33pyXXXZZ3knihz/8YXZUIYkFKE7WSEW9QYGgQLsUqIGCON0uAQftOpLfT37yk3TxxRenAw44ICfJXmWVVXIybGEMyyyzTFp77bXT5z73ufTd7353CBAHjU7R36BAUKC/KBCoV0OB/hrGiWktIPzGN76RPTdtmSQ5tvAFwe5HHHFEzgRjy6S3vOUtabHFFks77LBDDnYXDxglKBAUCAr0MgVqoCBO9/KgTVbbOKnYM3CppZZKiy66aM77+Z3vfCfbD7Xppz/9ad5oV7jDrLPOml7xilekAw88cChx9mS1O+oNCgQFggKjUSBQr4YCoxFuEH8HhgcffHCyC8TWW2+dzjvvvOw4U2yC7IMyvADM5zznOWnatGlZOgSSdYUjjhRpPD1JkOpoPpzv9lGtk01Um0q/6toe54MCQYGpQ4EaKIjTU2eIO9cTalJpzTjKiOuzZ2BzEcJw9NFHp2c/+9kZDD/60Y/W7hYBbGSD+d73vpfv2XXXXdNee+01dEi8/elPf3ro2GOPPVInj+qz1aXu3XffPe+HSOIN9W7z6Mb3oMDUpUCgXg0Fpu6Qj79nwKtIcBJik56ay5NPPpmOOuqorCYlGe6yyy45T2jzdb6TCsUJ8kbldDPvvPMOHS972cvSa1/72pxdxm9SrvnfyYM6d7XVVsvbP1H7vvSlL01zzTVX3iT4tNNOS0888USrZse5oEBQYApSoAYK4vQUHOuud6mqJp1zzjnT61//+nTkkUeOCCpiE2+++ea01VZbpbnnnjtLk0DU8ZrXvCaRLC+44IIcsvHVr341dfKQp/Tkk0/OEqHNgWeZZZZc79vf/vZ07LHH5nRvXSdaVBAUCAr0BAUC9Woo0BOj02eN+O1vf5uuuOKKtOWWW6Z55pknJ8+mVmWPG6nIEsP+SFJja3zWs56VZptttiSvKNWlUI5uFapfSb1Js3KYUu/aG/G4444LMOwW0eO5QYEepEANFMTpHhyrnm/S97///fSZz3wmqzbf8Y535LAKew6O5ohCXfrUU0/lRNoLLLBAmmOOObKE9rznPS8tueSSOXyDOtV13Sgk2rvuuittvPHGiXp2+eWXTzNmzAgw7Aax45lBgR6lQKBeDQV6dLx6tll33nln2n///dOaa66Z1llnnXT66adnMGkHwIClFG4y2ngG9WpxwHnRi16UVlpppSxxsuEBrk4X9f/sZz/LSb/FR6ov1KSdpnI8LyjQ2xSogYI43dvDVt86OzfY1++UU07JzJ1n51gPO0Ecf/zx+Tm2SWrlKFNaIAep1Gx2hdhss82y7U99Dz/8cM5TWq4b7T9A4pRz66235rANKssSnvHKV74yld3qbc00mqQ5Wl3Nv3ueHTCuu+66tNxyy6UVVlgh007fowQFggKDQYFAvRoK9OvwywkKjMQB8ryUKWasB89NKkPPIa1xcmlV2NseffTRbO/78Ic/nBzUi/YMJOmNp1CXnnXWWXn/wZe//OVZXcp+yLNUijchD0CzkwUY6qNQEQ47nHnOPPPMxDM2SlAgKDAYFKiBgjjdr8MPnK666qqcIk2AvP38xnocdNBBWdLzHM9rJRkCwkceeSTnKCURbrPNNtnpBBiTFsdbAJMgfQ4t7373u9Pzn//8DIicalZcccUM0A888MB4H197H3UukOUAdOmll6Yf/OAHOYyk9ob4ISgQFJhSFAjUq6HAlBrlDncG2FHHCk3Yfvvtc5weGxvJamaAsNpMSb4F2Iv/K6EWL3jBC7LEKC5RvGOUoEBQICjQKQrUQEGc7hSBp+JzZJkR7yeEYumll87bN5EgSYudKrxQv/3tb2d1LzAkGfrPuWannXbKW0d1qq54TlAgKBAUCNSroUBMjdYUoE685pprstTGRkidKU6wuUhldtJJJ6Vzzjknx/GNR5LjPXr++edn71SJv4GhcAtB8fvss09Wp7ZS4Ta3ZRC+GxfjcP3116dDDjkkOz/xkB2v7XYQaBZ9HD8FvHePP/54+ta3vpXzFX/961/P3uPd8PYefyvHdmcNFMTpsZFxMK420XmJsinaw9B2TV/84hdzOjVbO/FiBZRXXnllDq1g4+MF6kURJzjWUpxaZIlZfPHFh+yHwi3UD2xbAfFY6+n36+V3FSd57rnn5pjM7bbbLquw2V47Ka33O52i/Z2jADDkbe1dN9/EF3M6u/3225PkG/1YAvVqKNCPg9ntNlNdfuUrX8m7VrzqVa9KvD1la1l11VXTe97znqFDajPnBc/zaPXCCIkYa+FMo05OOZJqv/Wtb02zzz57VpnaHsqzS4abduIZx1p/P1xvwXDLLbdkh6ePf/zjmTGdeOKJ2QFIuMig0qUfxq6f22heySwle5M8vjvuuGMy/zjrffOb38zvbb/1rwYK4nS/DeREtJcEwqnF5r0lS0xxbqn7L0RD7lHbIo23eOnYDzfffPMk5lAOUTGIAFG4hcw341HDjrc9vXIfFaiFAul80003zTZcaeQ4MqG3xUSUoEA3KUDzQB0vrllY0iabbJI+//nPJ0k46kKyutmemXl2L6LexhXGesBkNXBmiDpV76X+YCd8wxvekOaff/5EOhzpeMlLXpLBUwjGzBaM/ZhjjsnhFtSk5shzn/vc9OY3vzkdeuihWX07aFIQm+oRRxwxlPXnjDPOyGrRQaPDzM6tuH/mKODdBIq0Rha/tEQHHHBA9jj35H5ZlE0W1oxU7+4VMPzaSBd287eZmx5T8252AkH4pLQbbrgh3XTTTSMejOtiAjtlt7r//vuzvXKJJZbIYEhClLZNgm/2skHJGIO5kIRlzHnve9+bwVAGoG4mNJ+aMzp61UkKmH8WZ2ussUY2k9jzlDapX5xquokn4312gGEnZ+gUehYwBsA777xzWmSRRTIgWjhRnZJYOer0m2pmPMODuVCP8qi1swf1lIXHIPR9PPSKeyaGAhZobPif/OQn00ILLZS1Qjbu7pd5OV7A6uZ9AYYTM3f7shbeo2IcZbx54QtfOASIQIH9kOQ61cMJMB0hKxyXxHlyWuDlGyUoMNkUYD9kzrBrzfTp0xNnrvE4z01GP7oJauN9doDhZMyEPqlThhshAzzYgEEBRNlphFtIMi47Tr/YKcZKdipn/efKbvNjDgsXXXRR37qzj7X/cX1vU0B8MfXohz70oezgxstUruJ+kA7HC1jdvC/AsLfn+6S3zotFAmSf4EAjkTfbob0IhVtI19Yvq9GxEpMTE9f19ddfP80777xD3rRCUKIEBSabAt5NKnxObS9+8Yuz/fBrX/taX7yP3QS18T47wHCyZ3Qf1O+lu/fee4fCLWSocdjdQqC/cI6pJh3qD6lQ+AQ1lDhPaijnOpUTtg+GPprYwxQwDzmy8Sy1OJUtqoT79Pr7OF7A6uZ9AYY9PNl7qWmkIfbDDTbYIM0999zZfihd2+te97ochM5+welmqhTMhMppr732yiEtHIf0n8delKBAr1DA7i88zs1Ph4QZd9xxR88vTrsJanXPFkcoZKI4P/x22rRpM6ZNm7bYf28YCQzPq9z3/roK/nu+eu30Ua4Vz1jas61re2ViRTvqKcCrUnC5tGy2e5prrrnyGFKbrrnmmunss8/OGw/3i2t3fU//8wsw5J3HHiPWUkYe2WemEuCPRoP4vfcp4H2jtXnb296W5ym7NtV+SIbDKPSSadOmfa8COgV8qv8B4UhgWAUtYDdSqT4X2I5UHqy0K4Ny70+5aGF5uUhLsrAsu+yy2XZoh4t55pknbbTRRom9wi4b3Q5E93ygRFrl7Qmkfa/Wq708Xf3mOp+rv482oq6ViHuFFVbIjkPrrbdeTrvWjorUveor7Sv1Fxqq22eMjJOONlrht+rHaO3sxd/H2n9jqP/oZByrdOrF/vVSm8yhhx56KGdFYtdebrnlcq7cscz1yejPSADRyd9aASEwA3wArgpGJMUCZM1B94Cq/Oa6ukISLNf57/l15TWVa4eeORmDEXWOjwIYtvimHXbYIdsMpWozpmIRd99992w/7FTgf6sWevmffPLJ3IYZM2Zkpxa7eZDahIL4XSnOLzxejz/++JzYXOb/dgsGbQ/JsuImIXIkGgkMMXHMnEMRINW+Aw88MNl/UmJ13n+F0QNLSRI4INn5gnrrsMMOy9LoU089NdSPdtvbC9fpGyYsUbz+o7tE80cffXT+DuwKk2aHlsrusssuS/vvv39WR7v+tttuy6roQqde6Fcvt8F8Z8fedttt00tf+tIkScbpp5/e8ykT6wCi0+er0h7AaaW2rEp9BciawVC7qmDZ6jmuqdZXnlXUsM19oxYt1wxJkOOZbJgSKYSK4Dvf+U5mwhjiWA/OH3ZaZ4jG6KOMTgGpycTekQZJhcZUujbS4pe//OU8LqM/ZXxXkCAwTCC39dZbp2WWWSYfBx98cM6bCnAkzabixIRdY0/Gs846K6+g26kVwwasmAr16HzzzZeDmyVKHgkMASHasOFg7Opefvnl00orrZT23HPPPFddo1gwsO2IW5RonSqWA4RttISrjFRPO32YjGvKQkWyBgsByRmo1NGA7ZVdGSAq3jU5NS0E5N+VTtDOLNLcWewEGLY3guYquu62227p1a9+dZ6vYg/Nw7LwaO9JE3tVMzB063sVwLJNrqaial5SDK0VGAKsAl4AtFWp2iTLtXX1Vm2LQ3bI8QyDhNJWn/vtt1/O0Sct0VprrTXm4/3vf3+WcnhkCabu5Qk0Hjp14x4MXTooDG+ppZbKQGie8GgjHZKgCtPvZP0AAlCI9SNFqV9CABk4SgwgaQtYAmUHWyapzKKpXecXTF2OV88XTiLJQAm2L5Jnq36Zk+omCWqj+yU8J12aZxxwALVinmH6UttRxVI320z50ksvnRBVc6v2z+w5AC87j/7rF4l9iy22yDSUyk5KO1JjkSAxbNL3YostlkN20MEiqypBz2ybpvr95hE6WhxaTFlYWBhSnfbygqoVkHT6HIApgAQUqUxHKlVwagWG1eexQTYXzy/1VUGx1bPcW671f6iMZ8JiPAzF1DCbbbZZjnlj1xnrIdfmLrvski688MKsbogVaXujYYVvPzU7a/AoNbaC8aWHcr4bqlIA+9hjj2WGay/HRx99NLuVk0iFP+y7777piiuuSPZk/L//+7+sLSBJjrVgIkD1yCOPzIxc5hnPpD0YabGkLtIeho4ZWbG7TzJl6is5TbW5WlwP0DExiZftCkKF2I+F6pdUCAgtPu67777scMWOJeE8Sd2Cs8qkXSNe1YJh++23z/ePRON+pEs324xWFhjmnD1NaTIICBar3ViQdqovQ8y/ix+qKss6QKpWP9r1VbDD8Nj8qqUKlj5X7ZHV63ymZi1g2OCQMx4CAy2rdC+WQfcijvfwDJOqXSB0HZsSScNKvxcP7esmUykqsauuuiqrAY3twgsvnCUo0lu3CtqXsTLuFkSkrwUWWCAHHdvShuqNmpIqbqQx1QfXADHgXehlPrBnkWxIhoD2hBNOyFJpuaauf+rz3FKvjZjXXXfdvGCwUOCAVIpnffe7302f+MQn0gc/+MF06qmn5h3N3V+KPppn2ulzeW75ve6/Z+uTRePMzk/08W6N1ndtcY32l/o5VZGKbQHGzixI3LMUdP7xj3+cwdCCgBTfvFhwjb6bzxYJ7bShjia9et6YlrEy1sas3b6iBzC02S+VNDBkgwWGaNerpRkcuvG9qtYEdKOV0cDQ/VXpkWq1Wqq2R8BZrR84Vkv12obn9OqA1bXLi2nbFEyO+sfL3ivHaqutlpkLKYlNtVvFi2bHd5Kh+CbbS3ECYYNFn4komC6VrDypHHhIqLQEVsmjSXHaR/qTWUcaqwsuuCCrm5zXt/GCYXO/qU3ZDqlAzRffSyFdAwvqfUCJgaFdATztIGltuOGG2YMXbYuatTyj7j9nIdoOWg/aD/a48cxR81s6Ou2k1h1rYcMH9MBQP/W/aA2AnP5ZcKiDlNw8d9gVqcQtcs4777zEuWiqFfPg4osvzvOQHd7iiL3aGFYXRq36HWBYhZjGz1VVZafAsGpbbJDoKuEbRYValRSbbYzVUI8G9W2rQe7lcyavbCR2dPjYxz6WdzzfbrvteuK/HbAxd/YyHpXdKF5QNjU5S9l5St5ODLPq0dmNuqvPxAioTbXDiphtDyPBYNspbFg26n3Xu96V1XmepQChqpqUXdR4twOwzfWSBC0SqEmpW9WpoCEvQI49PFXZfIBDYX4AEeNXr5yw5hfVcLtjSlpwPSkZ0JoXY52jaGl+U28C4vEAkcXKrrvumj2PqYJJ8kXK1H8AJ8+tDWvZvspCoNCRDZUaVUo8NthuLvBKnRP93+KABsEYLbrootkOb5FGSi7zoa5NBQzNI+9iVTKkSejV0ghb3fnWDTBsGQ7xX3tkUXtWgbecq4ZYVJ9RgHOIAuMZMJOEod3qiX3G/nsY2FgP95l0mExZsY7WHnWTHKxkqbl4LvbSwWanfUUdNVp/xvo7wMOkpGIjka2++uqZmbGRAZKJKhin8beKXnzxxbM3q62WMODRCkYBLDAgq3Hq3iJ16QPbFhAgtXg2sGqHOTXXi+FjbBgVNTIJQKEK4wDmNw4PHE+qxRwDDpIcYJBs48a1WXKq3lP9bC67n+2OHXK889P8ZtcDruOZT95NtlI2QZ7HQkmAvncXMOq7Mbv11lvz+WoffOZ0ZMHCnoh27TpBNT+nl7+bx0wLvEDRiSMMr1pzG9iNVPzufbRo4pUMDIXz4GsT+S6O1MZWvw0x/y5+6AYYam5VqmP7U6pSYDnnfFWtWmyMVenyfzxNWxFrtHNeKC85O8vee++dPvWpT2VPRt6MYzmokbysVuwkg+aV6WjtGLTf2TKovrhye2kBBekD02t3MdEpmnnZhcVwlgFamIG5QLU2WiHds1fx+uRJDOjKShoQkQIBEebCW1VoAAbjt7EUgGTVzrGLOtkzAZr6fAYEdh5oTnauLQBImAbARHNSUS8zuFZ0wdDZAjkRCb8hxZcFrHeXFoMkr/9Vxl/eQ6p49rArr7wyL3RHA2T3eU45ynPqzpc21/1ed77cV/43X6d+5xzNpZwvbfTfu8OzduWVV86mF+Nucea3kYrfzVVmEYsm87U4ao11ro5UT6d/+w+EdPdv1QbYrNJsVXP1+pEcbqrXFfVn1QZYfXY1lrAAXyuAHLpnPIQ2UQTsUv2INXvjG9+YGSKmOJaj2HKoFdlsRpt842nrVLoHIMiST7VIPSrYl8Qy0QUoAAdAJl8q93yMYMstt8wSX117gAwJlvSI0dIkUP9VmZbP5peYP2AvBrCdoPtWddI4ADtSNLuqhYN5htkJ17CKr+6PWOq2uNA+DieAE3j3YwFyNoJmN5TLlocuKZUkbB5ZxFalXe+fhS7A1H+SKXqNJhGiG6C0gBAPapFkbNHfmHue87Q5nkvNX2gKNIw3mrvP76Qtz3O/8XHOvSR915f5Utpr0eP53gVt9hzX0gBUeYrPzpmDnsmGWrRLtA88b9HKwlz7Sj11Y68t6rHptKB77wFnL+0e7d66Z07E+SHm38UPVQlMaMVopQpSI4FhNRtNUXMWz9Fm0K2qRMtvJfaxqjodatt4iG9SeYlMfisjk4uqYayH+zgGUNsUyWA87Znq95QXizTDhiYQXU5SEstES4RoDQjZKHl8cr7AQEiqHD7YoVoVfcC0OGMIBLdoouIVF9ccgoHJeL5nAkNOMCTJsUpmGDsVIG0Fj1dgCBypxEhJbHHmXimlXrY6QGy1z1sW0ySV91tBV8yemhMYklo4OFHrsRNaFFSlPXMJqFBRs7EK1yHxW5iM9H7iB/iAsRdzzAN4q622SkJtzBXzxHmLZs9lx6X+LeDEZmdhbbyF6pBa8Qb3k17NeeEh7J/6VNoCsACf8fQ+WFxzFlpyySWzT4FxK6Br7NzrHI2AZ5pbrgeC5iS7qrmilHdupDHXfsBO3Q8M1YsG5lEvlyHm38UPVSBiuwOOdaXq+enakcDQMwr4uZZatNgGi/RXradcCwSrQFqkyuq1kai7l2ftf9vmhWa/4RFp6ybeiRiaxchEF9IGexPGKo7vhhtuyFIGFRPG6TwGSKoCROxmBXAwIwwYuAEbHo6eUZVO9AcjAlTrrLNOZljc1kk0YwVDz7Fy1yYLCAyZipkHLNUfcK4yLteTUKzuATubLEbHJDAZi46ZHVt9A1JsnlL3mT9CLEjE5hOpHEMvxfWkMvZUnsHmGgcbnrEFgMq15b8xIQkZH1sYUZWbn8BFXQCNXRlgkaCctwhCY/Q3T/xOUqUBUKf/1LPmOGlW6AegMRalvcCSdspY0pBQ13sGxyNt5r0rj686FItuanmmGfOOFsM9FmcWPOYuLZcFU7tFW0jA6qvuadgOkLZbRzeuawCALn6pglwBo2p1zSEQBdRGA8OqWtS15b5WqdfGcm2AYTdmW4ee6aUCIFQ6GAKPTcyE44MVfB2D6lD1+THaQCqiLqReE9RNmrPa9x0j5AxDErDa5nCBiZG82GHYEKnBFMzDgRlLk0YCIwE2S13qtOLHTIEYUFJHM2i200/tw2ypSamWOeyQfDy/FcBpHxDXHwyYzZB6eiJo3U5/xnoNmtEokAzNH+Nj/MypVkxbP2l4gBpAAUBs+nULEdcDVaAGYC0yqKXNBSp0YTOkMepOanXAYw6T+EiHPH7dow5gJkSHwxMgA8K0HxzGSHPMKYr5whnIwkbaObF97vcsiyv1CoLXB2BI+jVXpQYE1OadZ5vTwMxiAUBbfHGeabdYpFookVrNU0Bs7rSia7vPnIjrqoDUzc+kw6KWLIAFINn9gFT1t6padTQwrDrMlOd6VqsylmsDDCdi9o2zDi8b+xp7BhWOEAGqIi82FeBEFOCA2WFY6qZyY2+jbmQL8uJTFQENkheVE4aHsWknyaSqitNmcaJW01SsmHIz0HgmAMIQMfD5558/q/cwNu0ZS7GYwISpZUkdGKEUcaTXOqaFwZFOqPRaSZBjqX+yrwX4VKNoyK4LENgRLRJaFTQhHQIaoGLhxRZXlaCr9xkP4GSOADxgYI4APLSmpi0aDL9Z4AA7izv2SFoD0rvFHemRqnPVVVfNalxz33NJdeYJ8NQ+0juJEIDRMhhfz1aXRZp2O6iC2Qi1i4RJInTe9eau4h2zOJKBSBgMlW07Rb/NIZ7QVK1UwN4L/aibV+08dyKuaQUa3TpHWquCXgGv8t9vAEsp50YDQ9c2PxPI1pXy3PK/9tqJIH7UMXYKYD5AhrrICp1kwzZn9Y1ZTVTRjgKGbD1US1bVpIdSMFwreOpIjBBokoUBK8QAABLSSURBVAhcU2WipAvOGBiilTsAxVCaAQ4zwazUwxNS3lXB3+yGraS50o5W/zF9baFqFTNHcgDQ1XZV77PIwOAwTgydmpd01esMrtqH6meLAdI8ICQVknzMq7piYQI8eOBKGECqBj7NY9TqfuNbYvbEJgKgoiJ3PcAiERpTccLqUYwFEJHKjGQI4ABbK02A8ad6lQzBAoet0Dwy9yzAzD3SrIUUaVWhVbC4IRWav9W5C6hJljQGFmnlnnzjCH8s8CzYqHslOjef2VZLvOwIt076T3Wg0a3z1KEkwWK/A0o+O1cNei8A5/xoxTUF3KqA2uq+5mur4RcN10/6yEQDWlKAbY4KkcqJPYJNg7rLKnmiCyDA6DAih8/N4IChYRCkBAemWmWgrsfcgCZGxiZHYqkrQIlkULbHwUTZKq302y3aifELL8DsSApsTXWAqo0YtABzalzgSXLo12IMAL8FAHoLMxEDO1L/gSf7H6BhB7YwABjN492KJsbdHKUuJFnSHlRLUadrCwAr9jx1GluLJPVa+GhjqwWLa4HW9OnT08tf/vJkH0ExpO6zgBGGA5QsYsr9xpM90BywMCgArU+kU6pW0ij1cbsLzeKcZYHIEYeN1Q4+2tfrpQEA4sswBXp94Aa1fUADU1lwwQXzS++FxqibVYr9Qh+Mh4RJMgEypBQqyLrierZGKiwqYpIdmxFJst2CiXOyoL7i3EH6aAXk5XnAm0QibkxqPRJGYajlmn76j1aC5fWHChJAjKReRxvg6R6aCGrvkVSkzbSw2LFdFnsrOxxQLUW9FiOkM+pNY19AycIPgAElv5Pk64p7pCEkeVooATD2Qoe26qMFUFUNTGoU9kCzYj4UidPCSr3AmfaFxNluMTct5kiEwJgdvJgN2n3GZF03zP3jUwMFJmtAot56ClC/UN1wQhB0zr4yntCC+hom/hfgRhLgCAEMSXrF7lhsQ82tAvwkBkxSmANpg+2ouQAxzAnY2fyYNKcutjGLCKosjjyFCTbfX74DPpIQuxo1IbUdAC8MdrT7y3Mm+r92k0jE4gmiRwsSMJUle7PE6eYP5l+V1pvbSbJHQ8DJ2Qjd0ds5zikjAalnATWLHOpVYKhORds4wfAmBTxUpFWnJKpFKlUaA9cYw7pSBUOgWE3/B/x5KwM8KtnSVx6ibHq2GgN45oc2mVvUqhZbAJot2QJK/WhY7m9ui/P6Zi6zQ3uuedOr86O5/Q0AEF+GKdBMqPg+eRQAGF5SUowVMjsP1Q6mNlrg8+S1ur2aMRBSBxDEeDhXAClMhOqKXaq5YPLuYbfimIPpUPU122UwN96hnCc472BmGCIgJImWeEL0Hamoj/s91TSVG2YrzIAEIIRkLFLpSPV08jd9AlIAG3O2hyGasrcCQV69Jd5O/0Yq1JzoyGmGIwvVH3qgIacTYNeqaINnc3ChXhZnKG4QAAJR85eWw7j7r21V4KCqBErmvFAH99QV97ENkgzNB2DveuB0+eWXZ1uhZ2h3ATPvk4Ul+6LrLRrMCfQx1oCyaB48A5CTLuvoZf6ZEyRNIULmMSegftHaDHP/+NRAgbpJN5XOl5fVZHVQB5UXxW8+O+c3q+Pyu98mqqiLaoe6x+pankQrbC8yJlz3Yk5U+2a2Hv1j76Syw/TYaKghMSR9tiJvLu4xJpwaSGskSnYlEp/zZQzRzTkMmJu7zCpsUgKgqT3Rr52xRGN2Wl6F1F/aqb3AmoQ0Fntlc1+69V2/SK+kHOAAxNBK/wEYVWUdiDW3ydwHqhYRFmJATVweSZHUVNd/40CScg0PXGpDoMgRxngBQHOaZE8FCmiq42GMaD+AJVVq8fRsbp/vbInG2rO8H+aE8aKeNVYkTP02Z0odbJWez4NZrKWQC4H92gIc1Svgn5MNoDXe5mqZX6Udnoc3WCCZY+4DpsBVu5qvL/f12v8GAIgvwxTotYHqZHtMXhMUM7B6JDF4MawKTXa/k8Ss6hi/rWCp7qharP6slMsL1cl2NT9LHVb3XiqMzGoTM2GHwIQnog3Nber0d30g3ZLYSAFW1dRldYynWj8mzIsWeGJmVv6YPBDAnIwvyY1qmURH6iQRUb9Sq7VLP3PFPWyTmBy1HRd+c2MktVm1rRP9Wd/QwZwFCOx8wIE0rS/md7vFYoB6uYCHZ2H6xoyEjtativu8Q5xnOHo5xOwZY+pmoEja9NziNFOe45lU2JxihNpQe47UZmPk3RTDqr9CItQB7DjeAKrybpc6qIwtjACzMbVoItnhCeq2cGDn9AxSXknBV5032mn+ekfZoD3HPSTQftPaDHP/+NRAgTJhpuJ/Lw6Q4YziZcMorVy9qFRJ1GtWwlaJmB8PNStiK04vmxXqREhkVpW8/EhJbBCkG+pEjKGOAfXjeKElUMFs2IwwUBJhOzTGcDAeoRvUXf6jj/stWgAmhk3lhpakwfEsZswJ91LbUvthpFRz5lKvFnNE/7VV/7V9PP3H/EncFhCctbwbxojkPdI8dA/nFZ6cxsZiRYypdrA3Cmz3LgG55rFWJ/oCOCEPrhmN1tpiHumvMVKH+eQZ6NB8v/bpA4m0zI8yb8wR4Kmt5g1vUs+vAqE2u58ESyLFP9g2qey1o99KAwDEl2EK9NtAjqW9GBvQo3qxauQQQP1oBwMrfhIiIKQGEpdE8hDYzl3bKhWIjrRKHUtbRrrWapkkIxj52c9+dlYpsV1Y8UcZpgCGSo1JAiRtWOGjEybazACH74pP3aYA9SqtCjuecbFoAUpToQBS845q1gIMD8E7SMvAuB/LMPePTw0U6MfBbKfNZcUJZKjiSBFUJSazIG62BvYFKhIvspUhdZgJb0NXjhgcANq1t7TTplbXWIV70dhUpMzi2UbF1axOanXvzJwjOVj9W/l3u48z087me4s0b4Ejv6TVudW+81EmhwIkO8kh2CupVoXDcGgBkv1eaG28J+yQHIpob5guJmKR3C3aNQBAfBmmQLcI3gvPpd6gOsP4/beas3Il+ZEQqU552lGZUHewH7DZlW2DXN9NoCDNAGm2M0HDsm8AaIyk28ydzYTtjmpLP/uloBnmazzZxKjGfG9Wv/VLf/q9nRadNBgcvWwgbHcQHtA0LkCk34v55l20OOWUU1S5/Tzfhrl/fGqgQL9P1tHaX9RnQI1kyAFj7rnnzitYwcXF2E6tAxipSmV8AVDsHiS3bhQvE3sHYzxnGepZQcRc29VZ2t2Nuj2TGti+iGw8MpT0U8GA0cfhsyPK5FAA7S1GLOo4tDgAI4cm79ZUKGWOeWfLnOvnfjUAQHwZpkA/D+pY2u7FlK1CvJqkxcCAipAaRLG6ZY+yqpVrUKAub7Py+1jqauda0ihVH3AmpVKTUsu2cgBo53ljuYaKhxs5Rx3u4VSNUYIC46UAgDCnSOlFE2Mes7dF6T0KDHP/+NRAgd4bqu60CPCJL7ILgvgpAFD1kPMiAyfBt2yK1IgAq9PFKhPj4ArPLZyNUOJiq2kea92Ucsoqnnu49FNowe7WnEOy032O5wUFggK9Q4EGAIgvwxTonSHqbkuoH8WfCQgGQoKUq4VbtQwebHfi/AQQd0MqBMBskxL8aosEwrwjuYZ3u1jB6yfPWn10UAfzqo0SFAgKDAYFhrl/fGqgwCAMP5sG6YcKlDTErtG8VQuwJCXxiONkY0+7TnvDAULqWk4yMu6zTVJXCkYmFVItsRd2+vBcz+cxy24qhEPd8n1yGGLviRIUCAoMBgUaACC+DFNgEIZfnBAnEem1qEhlGCl7mlEdAh9Z9CUR5tEpjkjAcac9xooqVj2zzz57mm222XJCZFvliNGy8aj/nT48V5YOzjKyg/CmnWWWWTLwkwwDDAfhLYg+BgX+Q4Fh7h+fGigwCBNEHFrZA41UJK6whC5QHXKbZiMEFNSkYolIjiW7BRCbmaIO9kcJAMQvzjfffBmMnvWsZ6VZZ501xxc+//nPT90+5pxzzjTHHHPkwH57Y5IMqWvFV0YJCgQFBoMCDQAQX4YpMAjDX4LphS8IChbHVwqgIjlyqBFqAAwl65ULU+iFgwp1Zgp1q1yaJE5q2somzZP6mfOO5Mbi9aIEBYICg0GBYe4fnxooMAjDTxKUWJfDCBtdUZHqOzWpsAr7nMlKs8gii2R1JWcaHp4C0mfWuYUUKmyC4w4VJTAkFU7moQ22tWG/nArB0YMwj6OPQYFOUKABAOLLMAU6Qdxef4Z0Z9KwsZ0JcpeMt1pIbqQjm7mKQyRBSsQrBZP8gzMb7gAMgapk4Msuu2yWDiUEn8xDjCGVrW1sZOiJEhQICgwGBYa5f3xqoMAgDD9vUqpQAcEy0TQ7xgA7YRTsejLbk5TYETnWdCJw2PPFFmqDeEdenb1wsIXyNG2mxyDMiehjUGBQKdAAAPFlmAKDOiGi30GBoEBQYBApMMz941MDBQZxMkSfgwJBgaDAoFKgAQDiyzAFBnVC9Eq/BeLbgJgalW1xZu2TvdKvaEdQICjQmxQY5v7xqYECvTlcg9Mqnq3ylEoSLvyi01lvCiWBbPNRfov/QYGgwOBQoAEA4sswBQZnCvRmTwXi27pJ4myJxDntdLIAQABL8pSSjZOQQz3PPPNMOM90ktjxrKBAH1BgmPvHpwYK9MHYTekm2ilDOja7ZdghHGh1slDDyrN6+OGH5zhHWXZk4bGFFWmUh6vEA1GCAkGBwaBAAwDEl2EKDMbw924vb7311gxUgt997uROGSRC2XcAoSTkcpM6bBklT+unPvWpnAxAyEmUoEBQYDAoMMz941MDBQZj+Hurl2IXn3766bwZqlRvQPCee+7JUmEnpTTJBWwPJevOjjvumE477bRcl2w7Au6pZnfddde8XVVvUShaExQICnSLAg0AEF+GKdAtgsdzW1OADU/GF/spyoZj14gDDzww3XLLLQ03uE4wPOBs56AOdT0wda977JtotwrHUUcdlQHX72yHEpeTEEmKxx57bEPd8SUoEBSYuhQY5v7xqYECU3fIe7NngIqdTqo3QLTgggvm3TJOPfXUhgZzcmHrY9eTW3WkQ7q56667LtnBXlYZjjG/+93vcgq4pZdeOn3wgx9Ml19++ZBzjjaoX75Wycn32muvhrrjS1AgKDB1KdAAAPFlmAJTd8h7t2ckOGnZJAOnqpTA+8ILL2xosHALXqa2WSq70tf9t/sE0Ntuu+2yDZB6FODat1H+UzlRSZ5AsBQASn26zDLLpF122aWcjv9BgaDAFKfAMPePTw0UmOLj3rPdE2jPsUVC8M9+9rPpxhtvbGirPRhPOumktNtuu+U9B+07WHfsscceOSyDdEmaJBXai5G9UELuT37yk/+zTdO1116btt566wyGVLVRggJBgcGgQAMAxJdhCgzG8PdeL6lBSWQAiT3v7rvv7lgj2QXvuuuuDLKve93rasFwq622CjDsGNXjQUGB/qDAMPePTw0U6I/hmzqtLKpKeySutdZaaZNNNklnnnlm3iWj2kuAJjSC/a+dQ0iG691HDXvvvfdmJxmS4TbbbJOz3DhfyjXXXJOAoS2lQk1aqBL/gwJTnwINABBfhikw9Ye+t3oIDG0p9a1vfStNnz49bbbZZkkWGnlJq8UWT+edd15WdR588MFppIM36qGHHprOP//8LBHalkns4PHHH59thptuumnevNj5Ujjm2ONxxRVXDAeaQpT4HxQYAAoMc//41ECBARj7nuoiMOTxSRq00zwnmRtuuCE99dRTWTos0ps8pXvuuWdaZZVVcoC8IPm6473vfW9ae+21s1qUY4w9G2WyEU9I8ltjjTWyM429GhVhGGeddVYGYtIp22WUoEBQYDAo0AAA8WWYAoMx/L3TS2pMzjGHHHJIDqmQBaaERpx99tl5BwutBZicXM4444wMXMCr7gCs5557brr++uvTgw8+OCRlCuRfd9110/LLL5922mmnHNtI5frkk09mZ5zVV189O/BccsklvUOgaElQICjQVQoMc//41ECBrlI9Hv4/FACG7HnUnsIh1l9//awKPeKIIzqem1QybvUARBIgz1S5UAXZkyTZK2fMmJHYL6MEBYICg0GBBgCIL8MUGIzh751eUpM+8cQT2R643HLLpYUWWiirQnmUPvzww1mF2anWykIDeNkOxTKKWXzFK16ReJhusMEG6YQTTggg7BSx4zlBgT6hwDD3j08NFOiT8ZsyzQSGnGXY766++uocbM+ZhUpT7KHfO1U8i+3wgQceyHbJiy++OJ1zzjnpggsuyA48znd6l4xOtT2eExQICnSHAg0AEF+GKdAdcsdTR6IAkCK18Srl4QmQhEZ0EghL/aUuQKsuCcKpT33Xhm7UWeqO/0GBoEDvUWCY+8enBgr03lBFi4ICQYGgQFCgWxRoAID4MkyBbhE8nhsUCAoEBYICvUeBYe4fnxoo0HtDFS0KCgQFggJBgW5R4P8BwUFFuzCiDt4AAAAASUVORK5CYII=)"
      ],
      "metadata": {
        "id": "kHJsGGXWl9ac"
      }
    },
    {
      "cell_type": "markdown",
      "source": [
        "![image.png](data:image/png;base64,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)"
      ],
      "metadata": {
        "id": "JUbKKCvBmCy4"
      }
    },
    {
      "cell_type": "code",
      "execution_count": null,
      "metadata": {
        "id": "bZ5Rn1q9JzFd"
      },
      "outputs": [],
      "source": [
        "#import the libraries\n",
        "import numpy as np\n"
      ]
    },
    {
      "cell_type": "code",
      "source": [
        "class Linear_Regression():\n",
        "\n",
        "  #Initiating the learning rate and noof iteration\n",
        "  def __init__(self ,learning_rate , no_of_iterations):\n",
        "    self.learning_rate = learning_rate\n",
        "    self.no_of_iterations = no_of_iterations\n",
        "\n",
        "  def fit( self, X, Y ) :\n",
        "\n",
        "        # no_of_training_examples, no_of_features\n",
        "\n",
        "        self.m, self.n = X.shape\n",
        "\n",
        "        # initiating the weight and bias\n",
        "\n",
        "        self.w = np.zeros( self.n )\n",
        "\n",
        "        self.b = 0\n",
        "\n",
        "        self.X = X\n",
        "\n",
        "        self.Y = Y\n",
        "\n",
        "\n",
        "        # implementing Gradient Descent for Optimization\n",
        "\n",
        "        for i in range( self.no_of_iterations ) :\n",
        "\n",
        "            self.update_weights()\n",
        "\n",
        "  def update_weights(self):\n",
        "\n",
        "    Y_prediction = self.predict(self.X)\n",
        "\n",
        "    # calculate gradients\n",
        "\n",
        "    dw = - (2 * (self.X.T).dot(self.Y - Y_prediction)) / self.m\n",
        "\n",
        "    db = - 2 * np.sum(self.Y - Y_prediction)/self.m\n",
        "\n",
        "    # upadating the weights\n",
        "\n",
        "    self.w = self.w - self.learning_rate*dw\n",
        "    self.b = self.b - self.learning_rate*db\n",
        "\n",
        "\n",
        "  def predict(self, X):\n",
        "\n",
        "    return X.dot(self.w) + self.b\n",
        "\n"
      ],
      "metadata": {
        "id": "QIYGK1F4mfd7"
      },
      "execution_count": null,
      "outputs": []
    },
    {
      "cell_type": "markdown",
      "source": [
        "Using Linear Regression model for Prediction"
      ],
      "metadata": {
        "id": "J3Mh2A3rt762"
      }
    },
    {
      "cell_type": "code",
      "source": [
        "#imporitng the dependencies\n",
        "import pandas as pd\n",
        "from sklearn.model_selection import train_test_split\n",
        "import matplotlib.pyplot as plt"
      ],
      "metadata": {
        "id": "dKxRl4l_tp-r"
      },
      "execution_count": null,
      "outputs": []
    },
    {
      "cell_type": "markdown",
      "source": [
        "Data Pre Processing"
      ],
      "metadata": {
        "id": "Yt16oS_QuLJN"
      }
    },
    {
      "cell_type": "code",
      "source": [
        "salary_ds = pd.read_csv('/content/salary_data.csv')"
      ],
      "metadata": {
        "id": "Pjzps_qluKq5"
      },
      "execution_count": null,
      "outputs": []
    },
    {
      "cell_type": "code",
      "source": [
        "#dimesnions of the dataset\n",
        "salary_ds.shape"
      ],
      "metadata": {
        "colab": {
          "base_uri": "https://localhost:8080/"
        },
        "id": "vMUJYe-SuUHK",
        "outputId": "ccb7dcca-ad56-4480-cfeb-aac600965c04"
      },
      "execution_count": null,
      "outputs": [
        {
          "output_type": "execute_result",
          "data": {
            "text/plain": [
              "(30, 2)"
            ]
          },
          "metadata": {},
          "execution_count": 7
        }
      ]
    },
    {
      "cell_type": "code",
      "source": [
        "#First Five row of the data\n",
        "salary_ds.head()"
      ],
      "metadata": {
        "colab": {
          "base_uri": "https://localhost:8080/",
          "height": 206
        },
        "id": "7rTG_Dn3uV45",
        "outputId": "993ffb2e-0d3a-4f9f-c649-9fa12f178d56"
      },
      "execution_count": null,
      "outputs": [
        {
          "output_type": "execute_result",
          "data": {
            "text/plain": [
              "   YearsExperience  Salary\n",
              "0              1.1   39343\n",
              "1              1.3   46205\n",
              "2              1.5   37731\n",
              "3              2.0   43525\n",
              "4              2.2   39891"
            ],
            "text/html": [
              "\n",
              "  <div id=\"df-ec951e63-b739-4e4e-b796-4fb1e6dfb772\" class=\"colab-df-container\">\n",
              "    <div>\n",
              "<style scoped>\n",
              "    .dataframe tbody tr th:only-of-type {\n",
              "        vertical-align: middle;\n",
              "    }\n",
              "\n",
              "    .dataframe tbody tr th {\n",
              "        vertical-align: top;\n",
              "    }\n",
              "\n",
              "    .dataframe thead th {\n",
              "        text-align: right;\n",
              "    }\n",
              "</style>\n",
              "<table border=\"1\" class=\"dataframe\">\n",
              "  <thead>\n",
              "    <tr style=\"text-align: right;\">\n",
              "      <th></th>\n",
              "      <th>YearsExperience</th>\n",
              "      <th>Salary</th>\n",
              "    </tr>\n",
              "  </thead>\n",
              "  <tbody>\n",
              "    <tr>\n",
              "      <th>0</th>\n",
              "      <td>1.1</td>\n",
              "      <td>39343</td>\n",
              "    </tr>\n",
              "    <tr>\n",
              "      <th>1</th>\n",
              "      <td>1.3</td>\n",
              "      <td>46205</td>\n",
              "    </tr>\n",
              "    <tr>\n",
              "      <th>2</th>\n",
              "      <td>1.5</td>\n",
              "      <td>37731</td>\n",
              "    </tr>\n",
              "    <tr>\n",
              "      <th>3</th>\n",
              "      <td>2.0</td>\n",
              "      <td>43525</td>\n",
              "    </tr>\n",
              "    <tr>\n",
              "      <th>4</th>\n",
              "      <td>2.2</td>\n",
              "      <td>39891</td>\n",
              "    </tr>\n",
              "  </tbody>\n",
              "</table>\n",
              "</div>\n",
              "    <div class=\"colab-df-buttons\">\n",
              "\n",
              "  <div class=\"colab-df-container\">\n",
              "    <button class=\"colab-df-convert\" onclick=\"convertToInteractive('df-ec951e63-b739-4e4e-b796-4fb1e6dfb772')\"\n",
              "            title=\"Convert this dataframe to an interactive table.\"\n",
              "            style=\"display:none;\">\n",
              "\n",
              "  <svg xmlns=\"http://www.w3.org/2000/svg\" height=\"24px\" viewBox=\"0 -960 960 960\">\n",
              "    <path d=\"M120-120v-720h720v720H120Zm60-500h600v-160H180v160Zm220 220h160v-160H400v160Zm0 220h160v-160H400v160ZM180-400h160v-160H180v160Zm440 0h160v-160H620v160ZM180-180h160v-160H180v160Zm440 0h160v-160H620v160Z\"/>\n",
              "  </svg>\n",
              "    </button>\n",
              "\n",
              "  <style>\n",
              "    .colab-df-container {\n",
              "      display:flex;\n",
              "      gap: 12px;\n",
              "    }\n",
              "\n",
              "    .colab-df-convert {\n",
              "      background-color: #E8F0FE;\n",
              "      border: none;\n",
              "      border-radius: 50%;\n",
              "      cursor: pointer;\n",
              "      display: none;\n",
              "      fill: #1967D2;\n",
              "      height: 32px;\n",
              "      padding: 0 0 0 0;\n",
              "      width: 32px;\n",
              "    }\n",
              "\n",
              "    .colab-df-convert:hover {\n",
              "      background-color: #E2EBFA;\n",
              "      box-shadow: 0px 1px 2px rgba(60, 64, 67, 0.3), 0px 1px 3px 1px rgba(60, 64, 67, 0.15);\n",
              "      fill: #174EA6;\n",
              "    }\n",
              "\n",
              "    .colab-df-buttons div {\n",
              "      margin-bottom: 4px;\n",
              "    }\n",
              "\n",
              "    [theme=dark] .colab-df-convert {\n",
              "      background-color: #3B4455;\n",
              "      fill: #D2E3FC;\n",
              "    }\n",
              "\n",
              "    [theme=dark] .colab-df-convert:hover {\n",
              "      background-color: #434B5C;\n",
              "      box-shadow: 0px 1px 3px 1px rgba(0, 0, 0, 0.15);\n",
              "      filter: drop-shadow(0px 1px 2px rgba(0, 0, 0, 0.3));\n",
              "      fill: #FFFFFF;\n",
              "    }\n",
              "  </style>\n",
              "\n",
              "    <script>\n",
              "      const buttonEl =\n",
              "        document.querySelector('#df-ec951e63-b739-4e4e-b796-4fb1e6dfb772 button.colab-df-convert');\n",
              "      buttonEl.style.display =\n",
              "        google.colab.kernel.accessAllowed ? 'block' : 'none';\n",
              "\n",
              "      async function convertToInteractive(key) {\n",
              "        const element = document.querySelector('#df-ec951e63-b739-4e4e-b796-4fb1e6dfb772');\n",
              "        const dataTable =\n",
              "          await google.colab.kernel.invokeFunction('convertToInteractive',\n",
              "                                                    [key], {});\n",
              "        if (!dataTable) return;\n",
              "\n",
              "        const docLinkHtml = 'Like what you see? Visit the ' +\n",
              "          '<a target=\"_blank\" href=https://colab.research.google.com/notebooks/data_table.ipynb>data table notebook</a>'\n",
              "          + ' to learn more about interactive tables.';\n",
              "        element.innerHTML = '';\n",
              "        dataTable['output_type'] = 'display_data';\n",
              "        await google.colab.output.renderOutput(dataTable, element);\n",
              "        const docLink = document.createElement('div');\n",
              "        docLink.innerHTML = docLinkHtml;\n",
              "        element.appendChild(docLink);\n",
              "      }\n",
              "    </script>\n",
              "  </div>\n",
              "\n",
              "\n",
              "<div id=\"df-18aa5639-8dc4-4ca0-b292-499953a3b0db\">\n",
              "  <button class=\"colab-df-quickchart\" onclick=\"quickchart('df-18aa5639-8dc4-4ca0-b292-499953a3b0db')\"\n",
              "            title=\"Suggest charts\"\n",
              "            style=\"display:none;\">\n",
              "\n",
              "<svg xmlns=\"http://www.w3.org/2000/svg\" height=\"24px\"viewBox=\"0 0 24 24\"\n",
              "     width=\"24px\">\n",
              "    <g>\n",
              "        <path d=\"M19 3H5c-1.1 0-2 .9-2 2v14c0 1.1.9 2 2 2h14c1.1 0 2-.9 2-2V5c0-1.1-.9-2-2-2zM9 17H7v-7h2v7zm4 0h-2V7h2v10zm4 0h-2v-4h2v4z\"/>\n",
              "    </g>\n",
              "</svg>\n",
              "  </button>\n",
              "\n",
              "<style>\n",
              "  .colab-df-quickchart {\n",
              "      --bg-color: #E8F0FE;\n",
              "      --fill-color: #1967D2;\n",
              "      --hover-bg-color: #E2EBFA;\n",
              "      --hover-fill-color: #174EA6;\n",
              "      --disabled-fill-color: #AAA;\n",
              "      --disabled-bg-color: #DDD;\n",
              "  }\n",
              "\n",
              "  [theme=dark] .colab-df-quickchart {\n",
              "      --bg-color: #3B4455;\n",
              "      --fill-color: #D2E3FC;\n",
              "      --hover-bg-color: #434B5C;\n",
              "      --hover-fill-color: #FFFFFF;\n",
              "      --disabled-bg-color: #3B4455;\n",
              "      --disabled-fill-color: #666;\n",
              "  }\n",
              "\n",
              "  .colab-df-quickchart {\n",
              "    background-color: var(--bg-color);\n",
              "    border: none;\n",
              "    border-radius: 50%;\n",
              "    cursor: pointer;\n",
              "    display: none;\n",
              "    fill: var(--fill-color);\n",
              "    height: 32px;\n",
              "    padding: 0;\n",
              "    width: 32px;\n",
              "  }\n",
              "\n",
              "  .colab-df-quickchart:hover {\n",
              "    background-color: var(--hover-bg-color);\n",
              "    box-shadow: 0 1px 2px rgba(60, 64, 67, 0.3), 0 1px 3px 1px rgba(60, 64, 67, 0.15);\n",
              "    fill: var(--button-hover-fill-color);\n",
              "  }\n",
              "\n",
              "  .colab-df-quickchart-complete:disabled,\n",
              "  .colab-df-quickchart-complete:disabled:hover {\n",
              "    background-color: var(--disabled-bg-color);\n",
              "    fill: var(--disabled-fill-color);\n",
              "    box-shadow: none;\n",
              "  }\n",
              "\n",
              "  .colab-df-spinner {\n",
              "    border: 2px solid var(--fill-color);\n",
              "    border-color: transparent;\n",
              "    border-bottom-color: var(--fill-color);\n",
              "    animation:\n",
              "      spin 1s steps(1) infinite;\n",
              "  }\n",
              "\n",
              "  @keyframes spin {\n",
              "    0% {\n",
              "      border-color: transparent;\n",
              "      border-bottom-color: var(--fill-color);\n",
              "      border-left-color: var(--fill-color);\n",
              "    }\n",
              "    20% {\n",
              "      border-color: transparent;\n",
              "      border-left-color: var(--fill-color);\n",
              "      border-top-color: var(--fill-color);\n",
              "    }\n",
              "    30% {\n",
              "      border-color: transparent;\n",
              "      border-left-color: var(--fill-color);\n",
              "      border-top-color: var(--fill-color);\n",
              "      border-right-color: var(--fill-color);\n",
              "    }\n",
              "    40% {\n",
              "      border-color: transparent;\n",
              "      border-right-color: var(--fill-color);\n",
              "      border-top-color: var(--fill-color);\n",
              "    }\n",
              "    60% {\n",
              "      border-color: transparent;\n",
              "      border-right-color: var(--fill-color);\n",
              "    }\n",
              "    80% {\n",
              "      border-color: transparent;\n",
              "      border-right-color: var(--fill-color);\n",
              "      border-bottom-color: var(--fill-color);\n",
              "    }\n",
              "    90% {\n",
              "      border-color: transparent;\n",
              "      border-bottom-color: var(--fill-color);\n",
              "    }\n",
              "  }\n",
              "</style>\n",
              "\n",
              "  <script>\n",
              "    async function quickchart(key) {\n",
              "      const quickchartButtonEl =\n",
              "        document.querySelector('#' + key + ' button');\n",
              "      quickchartButtonEl.disabled = true;  // To prevent multiple clicks.\n",
              "      quickchartButtonEl.classList.add('colab-df-spinner');\n",
              "      try {\n",
              "        const charts = await google.colab.kernel.invokeFunction(\n",
              "            'suggestCharts', [key], {});\n",
              "      } catch (error) {\n",
              "        console.error('Error during call to suggestCharts:', error);\n",
              "      }\n",
              "      quickchartButtonEl.classList.remove('colab-df-spinner');\n",
              "      quickchartButtonEl.classList.add('colab-df-quickchart-complete');\n",
              "    }\n",
              "    (() => {\n",
              "      let quickchartButtonEl =\n",
              "        document.querySelector('#df-18aa5639-8dc4-4ca0-b292-499953a3b0db button');\n",
              "      quickchartButtonEl.style.display =\n",
              "        google.colab.kernel.accessAllowed ? 'block' : 'none';\n",
              "    })();\n",
              "  </script>\n",
              "</div>\n",
              "\n",
              "    </div>\n",
              "  </div>\n"
            ],
            "application/vnd.google.colaboratory.intrinsic+json": {
              "type": "dataframe",
              "variable_name": "salary_ds",
              "summary": "{\n  \"name\": \"salary_ds\",\n  \"rows\": 30,\n  \"fields\": [\n    {\n      \"column\": \"YearsExperience\",\n      \"properties\": {\n        \"dtype\": \"number\",\n        \"std\": 2.8378881576627184,\n        \"min\": 1.1,\n        \"max\": 10.5,\n        \"num_unique_values\": 28,\n        \"samples\": [\n          3.9,\n          9.6,\n          3.7\n        ],\n        \"semantic_type\": \"\",\n        \"description\": \"\"\n      }\n    },\n    {\n      \"column\": \"Salary\",\n      \"properties\": {\n        \"dtype\": \"number\",\n        \"std\": 27414,\n        \"min\": 37731,\n        \"max\": 122391,\n        \"num_unique_values\": 30,\n        \"samples\": [\n          112635,\n          67938,\n          113812\n        ],\n        \"semantic_type\": \"\",\n        \"description\": \"\"\n      }\n    }\n  ]\n}"
            }
          },
          "metadata": {},
          "execution_count": 8
        }
      ]
    },
    {
      "cell_type": "code",
      "source": [
        "salary_ds.isnull().sum()"
      ],
      "metadata": {
        "colab": {
          "base_uri": "https://localhost:8080/"
        },
        "id": "3hLmojvquc0p",
        "outputId": "175263c6-fc8e-4bbc-d156-7c2d88f5c66c"
      },
      "execution_count": null,
      "outputs": [
        {
          "output_type": "execute_result",
          "data": {
            "text/plain": [
              "YearsExperience    0\n",
              "Salary             0\n",
              "dtype: int64"
            ]
          },
          "metadata": {},
          "execution_count": 9
        }
      ]
    },
    {
      "cell_type": "markdown",
      "source": [
        "\n",
        "Splitting the feature & target"
      ],
      "metadata": {
        "id": "DiONVoWmvAD-"
      }
    },
    {
      "cell_type": "code",
      "source": [
        "X = salary_ds.iloc[:,:-1].values    #[1:10:1] This is used to print the columns in specific order 1 to 10 column with step size 1\n",
        "Y = salary_ds.iloc[:,1].values"
      ],
      "metadata": {
        "id": "gbxqrS4nui3p"
      },
      "execution_count": null,
      "outputs": []
    },
    {
      "cell_type": "code",
      "source": [
        "print(X)"
      ],
      "metadata": {
        "colab": {
          "base_uri": "https://localhost:8080/"
        },
        "id": "GdHY5PzMvUo5",
        "outputId": "5e27aeb0-a6df-46e6-b8bc-61715eee64b9"
      },
      "execution_count": null,
      "outputs": [
        {
          "output_type": "stream",
          "name": "stdout",
          "text": [
            "[[ 1.1]\n",
            " [ 1.3]\n",
            " [ 1.5]\n",
            " [ 2. ]\n",
            " [ 2.2]\n",
            " [ 2.9]\n",
            " [ 3. ]\n",
            " [ 3.2]\n",
            " [ 3.2]\n",
            " [ 3.7]\n",
            " [ 3.9]\n",
            " [ 4. ]\n",
            " [ 4. ]\n",
            " [ 4.1]\n",
            " [ 4.5]\n",
            " [ 4.9]\n",
            " [ 5.1]\n",
            " [ 5.3]\n",
            " [ 5.9]\n",
            " [ 6. ]\n",
            " [ 6.8]\n",
            " [ 7.1]\n",
            " [ 7.9]\n",
            " [ 8.2]\n",
            " [ 8.7]\n",
            " [ 9. ]\n",
            " [ 9.5]\n",
            " [ 9.6]\n",
            " [10.3]\n",
            " [10.5]]\n"
          ]
        }
      ]
    },
    {
      "cell_type": "code",
      "source": [
        "print(Y)"
      ],
      "metadata": {
        "colab": {
          "base_uri": "https://localhost:8080/"
        },
        "id": "wRPkW5s_vVZp",
        "outputId": "107214b7-1d47-42e4-b758-6632dd1b18a3"
      },
      "execution_count": null,
      "outputs": [
        {
          "output_type": "stream",
          "name": "stdout",
          "text": [
            "[ 39343  46205  37731  43525  39891  56642  60150  54445  64445  57189\n",
            "  63218  55794  56957  57081  61111  67938  66029  83088  81363  93940\n",
            "  91738  98273 101302 113812 109431 105582 116969 112635 122391 121872]\n"
          ]
        }
      ]
    },
    {
      "cell_type": "markdown",
      "source": [
        "testing and training the data"
      ],
      "metadata": {
        "id": "OQqfEeNAvZkp"
      }
    },
    {
      "cell_type": "code",
      "source": [
        "X_train , X_test , Y_train , Y_test = train_test_split(X , Y , test_size = 0.33 , random_state=2 )"
      ],
      "metadata": {
        "id": "ATnrd_KBvYfJ"
      },
      "execution_count": null,
      "outputs": []
    },
    {
      "cell_type": "code",
      "source": [
        "print(X.shape , X_train.shape , X_test.shape)"
      ],
      "metadata": {
        "colab": {
          "base_uri": "https://localhost:8080/"
        },
        "id": "4P_K2MYRvmqJ",
        "outputId": "5277014c-5c03-4473-b806-af5ff5910aaf"
      },
      "execution_count": null,
      "outputs": [
        {
          "output_type": "stream",
          "name": "stdout",
          "text": [
            "(30, 1) (20, 1) (10, 1)\n"
          ]
        }
      ]
    },
    {
      "cell_type": "code",
      "source": [
        "model = Linear_Regression(learning_rate = 0.02, no_of_iterations=1000)"
      ],
      "metadata": {
        "id": "8AQ61fezv3YJ"
      },
      "execution_count": null,
      "outputs": []
    },
    {
      "cell_type": "code",
      "source": [
        "model.fit(X_train, Y_train)"
      ],
      "metadata": {
        "id": "VMNSXWHZv-MJ"
      },
      "execution_count": null,
      "outputs": []
    },
    {
      "cell_type": "code",
      "source": [
        "# printing the parameter values ( weights & bias)\n",
        "\n",
        "print('weight = ', model.w[0])\n",
        "print('bias = ', model.b)"
      ],
      "metadata": {
        "colab": {
          "base_uri": "https://localhost:8080/"
        },
        "id": "64Z-EIVlwd5p",
        "outputId": "9bf85f04-cfa5-4a6a-fd97-5ad55c6f2317"
      },
      "execution_count": null,
      "outputs": [
        {
          "output_type": "stream",
          "name": "stdout",
          "text": [
            "weight =  9514.400999035135\n",
            "bias =  23697.406507136307\n"
          ]
        }
      ]
    },
    {
      "cell_type": "markdown",
      "source": [
        "y = 9514(x) + 23697\n",
        "\n",
        "salary = 9514(experience) + 23697\n",
        "\n",
        "Predict the salary value for test data"
      ],
      "metadata": {
        "id": "Kvwz_VTMyCvZ"
      }
    },
    {
      "cell_type": "code",
      "source": [
        "test_data_prediction = model.predict(X_test)"
      ],
      "metadata": {
        "id": "rMCcSVdgxM9Z"
      },
      "execution_count": null,
      "outputs": []
    },
    {
      "cell_type": "code",
      "source": [
        "print(test_data_prediction)"
      ],
      "metadata": {
        "colab": {
          "base_uri": "https://localhost:8080/"
        },
        "id": "x6sskpiCyElZ",
        "outputId": "5c15788b-9e34-438b-b12c-733ae8c083cb"
      },
      "execution_count": null,
      "outputs": [
        {
          "output_type": "stream",
          "name": "stdout",
          "text": [
            "[ 36066.12780588  34163.24760607  66512.21100279  58900.69020357\n",
            "  91249.65360029  80783.81250135 101715.49469922  52240.60950424\n",
            "  42726.20850521  88395.33330058]\n"
          ]
        }
      ]
    },
    {
      "cell_type": "code",
      "source": [
        "#Visual representation\n",
        "plt.scatter(X_test, Y_test, color = 'red')\n",
        "plt.plot(X_test, test_data_prediction, color='blue')\n",
        "plt.xlabel(' Work Experience')\n",
        "plt.ylabel('Salary')\n",
        "plt.title(' Salary vs Experience')\n",
        "plt.show()"
      ],
      "metadata": {
        "colab": {
          "base_uri": "https://localhost:8080/",
          "height": 472
        },
        "id": "szuHtGI7yIFZ",
        "outputId": "f8acc4b9-b4c2-4770-dbb0-f73e1697a386"
      },
      "execution_count": null,
      "outputs": [
        {
          "output_type": "display_data",
          "data": {
            "text/plain": [
              "<Figure size 640x480 with 1 Axes>"
            ],
            "image/png": "[encoded data removed]"
          },
          "metadata": {}
        }
      ]
    }
  ]
}