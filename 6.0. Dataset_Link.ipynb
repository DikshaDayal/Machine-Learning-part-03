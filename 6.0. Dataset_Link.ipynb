{
  "nbformat": 4,
  "nbformat_minor": 0,
  "metadata": {
    "colab": {
      "provenance": [],
      "authorship_tag": "ABX9TyPFfclNdUEojwn/VP9ufU83",
      "include_colab_link": true
    },
    "kernelspec": {
      "name": "python3",
      "display_name": "Python 3"
    },
    "language_info": {
      "name": "python"
    }
  },
  "cells": [
    {
      "cell_type": "markdown",
      "metadata": {
        "id": "view-in-github",
        "colab_type": "text"
      },
      "source": [
        "<a href=\"https://colab.research.google.com/github/DikshaDayal/Machine-Learning-part-03/blob/main/6.0.%20Dataset_Link.ipynb\" target=\"_parent\"><img src=\"https://colab.research.google.com/assets/colab-badge.svg\" alt=\"Open In Colab\"/></a>"
      ]
    },
    {
      "cell_type": "markdown",
      "source": [
        "**All the dataset which we will be using in this particular Tutorial .**\n",
        "\n",
        "---\n",
        "\n"
      ],
      "metadata": {
        "id": "3zJotGtTjzXp"
      }
    },
    {
      "cell_type": "markdown",
      "source": [
        " https://drive.google.com/drive/folders/1BJLh_8Kx88V6ItrdLA5CQ63RIFcjKkFV?usp=sharing"
      ],
      "metadata": {
        "id": "q2YWBC4djwMz"
      }
    }
  ]
}